{
 "cells": [
  {
   "cell_type": "code",
   "execution_count": 120,
   "metadata": {},
   "outputs": [
    {
     "name": "stdout",
     "output_type": "stream",
     "text": [
      "0.132\n"
     ]
    }
   ],
   "source": [
    "                                   # HackerRank - Correlation and Regression Lines\n",
    "\n",
    "\n",
    "    \n",
    "\n",
    "import math                          # Package File 1\n",
    "import itertools                     # Package File 2\n",
    "\n",
    "\n",
    "a=[15,12,8,8,8,7,7,6,5,3]             # Physics Scores\n",
    "b=[10,25,17,11,13,17,20,13,9,15]      # History Scores\n",
    "\n",
    "n=0\n",
    "karl1 = 0   \n",
    "x=0\n",
    "y=0                                   # Random Variables\n",
    "A=0\n",
    "B=0\n",
    "C=0\n",
    "D=0\n",
    "\n",
    "n=len(a)                              # No. of Observations\n",
    "\n",
    "# Karl1 -->  n*Σ(x*y)\n",
    "for (x,y) in zip(a,b):    \n",
    "    karl1 = x*y + karl1 \n",
    "\n",
    "karl1 = n*karl1 \n",
    "\n",
    "\n",
    "for i in range(len(a)):\n",
    "    \n",
    "    A = a[i] + A                      # Sum of elements in list a       \n",
    "    C=a[i]*a[i] + C                   # Σ(x^2)\n",
    "\n",
    "    \n",
    "for i in range(len(b)):\n",
    "    \n",
    "    B = b[i] + B                      # Sum of elements in list b\n",
    "    D = b[i]*b[i] + D                 # Σ(y^2)\n",
    "    \n",
    "\n",
    "# Karl2 -->  Σ(x) * Σ(y)\n",
    "karl2 = A*B\n",
    "\n",
    "\n",
    "# Karl_num --> nΣ(xy) - Σ(x)Σ(y)\n",
    "karl_num = karl1 - karl2 \n",
    "\n",
    "\n",
    "C = n*C                               # n*Σ(x)^2\n",
    "D = n*D                               # n*Σ(y)^2\n",
    "\n",
    "# Karl3 --> nΣ(x)^2 - (Σx)^2\n",
    "karl3 = C - (A)**2\n",
    "\n",
    "# Karl4 --> nΣ(y)^2 - (Σy)^2\n",
    "karl4 = D - (B)**2\n",
    "\n",
    "# Karl_den --> sqrt((nΣ(x)^2 - (Σx)^2) * (nΣ(y)^2 - (Σy)^2))\n",
    "karl_den = math.sqrt(karl3 * karl4)\n",
    "\n",
    "# Final Formula\n",
    "KARL = karl_num/karl_den\n",
    "\n",
    "print(round(KARL,3))"
   ]
  },
  {
   "cell_type": "code",
   "execution_count": null,
   "metadata": {},
   "outputs": [],
   "source": []
  },
  {
   "cell_type": "code",
   "execution_count": null,
   "metadata": {},
   "outputs": [],
   "source": []
  }
 ],
 "metadata": {
  "kernelspec": {
   "display_name": "Python 3",
   "language": "python",
   "name": "python3"
  },
  "language_info": {
   "codemirror_mode": {
    "name": "ipython",
    "version": 3
   },
   "file_extension": ".py",
   "mimetype": "text/x-python",
   "name": "python",
   "nbconvert_exporter": "python",
   "pygments_lexer": "ipython3",
   "version": "3.6.5"
  }
 },
 "nbformat": 4,
 "nbformat_minor": 2
}
